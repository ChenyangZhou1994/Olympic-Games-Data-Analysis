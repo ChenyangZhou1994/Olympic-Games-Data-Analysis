{
 "cells": [
  {
   "cell_type": "markdown",
   "metadata": {
    "collapsed": true,
    "pycharm": {
     "name": "#%% md\n"
    }
   },
   "source": [
    "# 时婷婷-19金融工程-51905081047"
   ]
  },
  {
   "cell_type": "markdown",
   "source": [
    "## 1.导入包"
   ],
   "metadata": {
    "collapsed": false,
    "pycharm": {
     "name": "#%% md\n"
    }
   }
  },
  {
   "cell_type": "code",
   "execution_count": 1,
   "outputs": [],
   "source": [
    "import pandas as pd\n",
    "import numpy as np\n",
    "import matplotlib.pyplot as plt\n",
    "from plotly.graph_objs import *\n",
    "import colorlover as cl\n",
    "%matplotlib inline\n",
    "\n",
    "pd.set_option('display.max_columns', None)\n",
    "pd.set_option('display.max_rows', None)\n",
    "pd.set_option('max_colwidth', 200)\n",
    "pd.set_option('expand_frame_repr', False)"
   ],
   "metadata": {
    "collapsed": false,
    "pycharm": {
     "name": "#%%\n"
    }
   }
  },
  {
   "cell_type": "markdown",
   "source": [
    "## 2.读取数据"
   ],
   "metadata": {
    "collapsed": false
   }
  },
  {
   "cell_type": "code",
   "execution_count": 2,
   "outputs": [
    {
     "data": {
      "text/plain": "   ID                      Name Sex   Age  Height  Weight            Team  NOC        Games  Year  Season       City          Sport                             Event Medal\n0   1                 A Dijiang   M  24.0   180.0    80.0           China  CHN  1992 Summer  1992  Summer  Barcelona     Basketball       Basketball Men's Basketball   NaN\n1   2                  A Lamusi   M  23.0   170.0    60.0           China  CHN  2012 Summer  2012  Summer     London           Judo      Judo Men's Extra-Lightweight   NaN\n2   3       Gunnar Nielsen Aaby   M  24.0     NaN     NaN         Denmark  DEN  1920 Summer  1920  Summer  Antwerpen       Football           Football Men's Football   NaN\n3   4      Edgar Lindenau Aabye   M  34.0     NaN     NaN  Denmark/Sweden  DEN  1900 Summer  1900  Summer      Paris     Tug-Of-War       Tug-Of-War Men's Tug-Of-War  Gold\n4   5  Christine Jacoba Aaftink   F  21.0   185.0    82.0     Netherlands  NED  1988 Winter  1988  Winter    Calgary  Speed Skating  Speed Skating Women's 500 metres   NaN",
      "text/html": "<div>\n<style scoped>\n    .dataframe tbody tr th:only-of-type {\n        vertical-align: middle;\n    }\n\n    .dataframe tbody tr th {\n        vertical-align: top;\n    }\n\n    .dataframe thead th {\n        text-align: right;\n    }\n</style>\n<table border=\"1\" class=\"dataframe\">\n  <thead>\n    <tr style=\"text-align: right;\">\n      <th></th>\n      <th>ID</th>\n      <th>Name</th>\n      <th>Sex</th>\n      <th>Age</th>\n      <th>Height</th>\n      <th>Weight</th>\n      <th>Team</th>\n      <th>NOC</th>\n      <th>Games</th>\n      <th>Year</th>\n      <th>Season</th>\n      <th>City</th>\n      <th>Sport</th>\n      <th>Event</th>\n      <th>Medal</th>\n    </tr>\n  </thead>\n  <tbody>\n    <tr>\n      <th>0</th>\n      <td>1</td>\n      <td>A Dijiang</td>\n      <td>M</td>\n      <td>24.0</td>\n      <td>180.0</td>\n      <td>80.0</td>\n      <td>China</td>\n      <td>CHN</td>\n      <td>1992 Summer</td>\n      <td>1992</td>\n      <td>Summer</td>\n      <td>Barcelona</td>\n      <td>Basketball</td>\n      <td>Basketball Men's Basketball</td>\n      <td>NaN</td>\n    </tr>\n    <tr>\n      <th>1</th>\n      <td>2</td>\n      <td>A Lamusi</td>\n      <td>M</td>\n      <td>23.0</td>\n      <td>170.0</td>\n      <td>60.0</td>\n      <td>China</td>\n      <td>CHN</td>\n      <td>2012 Summer</td>\n      <td>2012</td>\n      <td>Summer</td>\n      <td>London</td>\n      <td>Judo</td>\n      <td>Judo Men's Extra-Lightweight</td>\n      <td>NaN</td>\n    </tr>\n    <tr>\n      <th>2</th>\n      <td>3</td>\n      <td>Gunnar Nielsen Aaby</td>\n      <td>M</td>\n      <td>24.0</td>\n      <td>NaN</td>\n      <td>NaN</td>\n      <td>Denmark</td>\n      <td>DEN</td>\n      <td>1920 Summer</td>\n      <td>1920</td>\n      <td>Summer</td>\n      <td>Antwerpen</td>\n      <td>Football</td>\n      <td>Football Men's Football</td>\n      <td>NaN</td>\n    </tr>\n    <tr>\n      <th>3</th>\n      <td>4</td>\n      <td>Edgar Lindenau Aabye</td>\n      <td>M</td>\n      <td>34.0</td>\n      <td>NaN</td>\n      <td>NaN</td>\n      <td>Denmark/Sweden</td>\n      <td>DEN</td>\n      <td>1900 Summer</td>\n      <td>1900</td>\n      <td>Summer</td>\n      <td>Paris</td>\n      <td>Tug-Of-War</td>\n      <td>Tug-Of-War Men's Tug-Of-War</td>\n      <td>Gold</td>\n    </tr>\n    <tr>\n      <th>4</th>\n      <td>5</td>\n      <td>Christine Jacoba Aaftink</td>\n      <td>F</td>\n      <td>21.0</td>\n      <td>185.0</td>\n      <td>82.0</td>\n      <td>Netherlands</td>\n      <td>NED</td>\n      <td>1988 Winter</td>\n      <td>1988</td>\n      <td>Winter</td>\n      <td>Calgary</td>\n      <td>Speed Skating</td>\n      <td>Speed Skating Women's 500 metres</td>\n      <td>NaN</td>\n    </tr>\n  </tbody>\n</table>\n</div>"
     },
     "execution_count": 2,
     "metadata": {},
     "output_type": "execute_result"
    }
   ],
   "source": [
    "df = pd.read_csv('athlete_events.csv')\n",
    "df.head(5)"
   ],
   "metadata": {
    "collapsed": false,
    "pycharm": {
     "name": "#%%\n"
    }
   }
  },
  {
   "cell_type": "markdown",
   "source": [
    "## 3.查看数据中各个字段的空值的个数"
   ],
   "metadata": {
    "collapsed": false
   }
  },
  {
   "cell_type": "code",
   "execution_count": 16,
   "outputs": [
    {
     "name": "stderr",
     "output_type": "stream",
     "text": [
      "IOPub data rate exceeded.\n",
      "The notebook server will temporarily stop sending output\n",
      "to the client in order to avoid crashing it.\n",
      "To change this limit, set the config variable\n",
      "`--NotebookApp.iopub_data_rate_limit`.\n",
      "\n",
      "Current values:\n",
      "NotebookApp.iopub_data_rate_limit=1000000.0 (bytes/sec)\n",
      "NotebookApp.rate_limit_window=3.0 (secs)\n",
      "\n"
     ]
    }
   ],
   "source": [
    "print(df[df['Sex']=='M'].value_counts())"
   ],
   "metadata": {
    "collapsed": false,
    "pycharm": {
     "name": "#%%\n"
    }
   }
  },
  {
   "cell_type": "code",
   "execution_count": 18,
   "outputs": [
    {
     "ename": "TypeError",
     "evalue": "count() takes at least 1 argument (0 given)",
     "output_type": "error",
     "traceback": [
      "\u001B[1;31m---------------------------------------------------------------------------\u001B[0m",
      "\u001B[1;31mTypeError\u001B[0m                                 Traceback (most recent call last)",
      "\u001B[1;32m~\\AppData\\Local\\Temp/ipykernel_1716/2932400794.py\u001B[0m in \u001B[0;36m<module>\u001B[1;34m\u001B[0m\n\u001B[1;32m----> 1\u001B[1;33m \u001B[0mdf\u001B[0m\u001B[1;33m[\u001B[0m\u001B[1;34m'Sex'\u001B[0m\u001B[1;33m]\u001B[0m\u001B[1;33m==\u001B[0m\u001B[1;34m'M'\u001B[0m\u001B[1;33m.\u001B[0m\u001B[0mcount\u001B[0m\u001B[1;33m(\u001B[0m\u001B[1;33m)\u001B[0m\u001B[1;33m\u001B[0m\u001B[1;33m\u001B[0m\u001B[0m\n\u001B[0m\u001B[0;32m      2\u001B[0m \u001B[1;33m\u001B[0m\u001B[0m\n",
      "\u001B[1;31mTypeError\u001B[0m: count() takes at least 1 argument (0 given)"
     ]
    }
   ],
   "source": [
    "df['Sex']=='M'.count()"
   ],
   "metadata": {
    "collapsed": false,
    "pycharm": {
     "name": "#%%\n"
    }
   }
  },
  {
   "cell_type": "code",
   "execution_count": null,
   "outputs": [],
   "source": [
    "list"
   ],
   "metadata": {
    "collapsed": false,
    "pycharm": {
     "name": "#%%\n"
    }
   }
  },
  {
   "cell_type": "code",
   "execution_count": null,
   "outputs": [],
   "source": [
    "plt.bar(df['Sex']=='M', df['Sex']=='M')\n",
    "plt.bar(df['Sex']=='F', df['Goals'])\n",
    "plt.xticks(rotation=90)\n",
    "plt.xlabel('Years')\n",
    "plt.ylabel('Numbers')\n",
    "plt.show()"
   ],
   "metadata": {
    "collapsed": false,
    "pycharm": {
     "name": "#%%\n"
    }
   }
  },
  {
   "cell_type": "code",
   "execution_count": null,
   "outputs": [],
   "source": [
    "plt.bar(df['Year'], +df['Shots on target'], label='Shots on target')\n",
    "plt.bar(df['Year'], -df['Shots off target'], label='Shots off target')\n",
    "plt.title(\"Teams' Shots on / off target\")\n",
    "plt.xticks(rotation=90)\n",
    "plt.legend()\n",
    "plt.xlabel('Teams')\n",
    "plt.ylabel('Shots on / off target')\n",
    "plt.show()\n"
   ],
   "metadata": {
    "collapsed": false,
    "pycharm": {
     "name": "#%%\n"
    }
   }
  },
  {
   "cell_type": "markdown",
   "source": [
    "## 4.那不同地区参赛人数"
   ],
   "metadata": {
    "collapsed": false,
    "pycharm": {
     "name": "#%% md\n"
    }
   }
  },
  {
   "cell_type": "code",
   "execution_count": 6,
   "outputs": [
    {
     "data": {
      "text/plain": "USA    18853\nFRA    12758\nGBR    12256\nITA    10715\nGER     9830\nCAN     9733\nJPN     8444\nSWE     8339\nAUS     7638\nHUN     6607\nPOL     6207\nSUI     6150\nNED     5839\nURS     5685\nFIN     5467\nESP     5313\nRUS     5143\nCHN     5141\nAUT     5141\nNOR     4960\nKOR     4464\nROU     4405\nTCH     4404\nBEL     3857\nBRA     3848\nDEN     3570\nBUL     3530\nFRG     3315\nARG     3297\nGRE     3181\nMEX     2880\nGDR     2645\nYUG     2583\nUKR     2559\nCUB     2479\nNZL     2342\nCZE     1874\nBLR     1787\nRSA     1711\nEGY     1622\nPOR     1522\nKAZ     1429\nIND     1408\nTUR     1356\nIRL     1325\nSLO     1111\nTPE     1097\nCOL     1069\nSVK     1055\nLUX      996\nLAT      951\nPUR      927\nVEN      925\nCHI      925\nNGR      882\nEST      876\nCRO      876\nEUN      864\nJAM      848\nPRK      807\nIRI      789\nKEN      772\nTHA      747\nPHI      694\nHKG      685\nMAR      682\nISR      665\nLTU      654\nISL      627\nURU      576\nPAK      562\nTUN      561\nALG      551\nMGL      550\nPER      532\nMAS      530\nUZB      495\nGUA      425\nINA      412\nSEN      393\nSRB      392\nETH      378\nTTO      375\nBAH      374\nLIE      369\nGHA      359\nSGP      349\nLIB      329\nSCG      321\nCMR      312\nZIM      311\nISV      294\nGEO      286\nKUW      284\nAZE      283\nDOM      277\nECU      277\nANG      267\nCRC      264\nUGA      260\nMDA      234\nFIJ      232\nIRQ      232\nKSA      230\nKGZ      227\nCYP      225\nARM      221\nBAR      219\nESA      218\nBER      212\nMON      197\nCIV      193\nQAT      192\nHON      189\nZAM      183\nSMR      181\nAND      169\nTAN      161\nSYR      156\nVIE      154\nBOH      153\nBOL      152\nSRI      146\nMRI      144\nUAE      144\nPAN      139\nPAR      135\nBIH      134\nANT      133\nNCA      129\nAFG      126\nBRN      126\nUAR      123\nMAD      119\nMLT      118\nSLE      114\nGUM      112\nSEY      111\nMYA      111\nPNG      108\nSUD      107\nHAI      106\nCGO      105\nGUY      102\nIOA       94\nNEP       94\nMNE       94\nCOD       93\nSAA       93\nMLI       92\nBOT       90\nMAW       87\nANZ       86\nMKD       84\nLBA       84\nCAY       83\nJOR       80\nAHO       79\nMOZ       78\nNAM       77\nBIZ       76\nLBR       74\nGUI       73\nBEN       71\nTJK       70\nALB       70\nSUR       69\nCAF       67\nSWZ       67\nOMA       66\nLES       66\nCAM       63\nGAB       63\nSAM       63\nVNM       62\nTOG       59\nGAM       56\nRWA       56\nBAN       55\nTKM       54\nGRN       54\nLAO       54\nMDV       49\nNIG       47\nTGA       46\nIVB       45\nMAL       45\nBUR       44\nERI       43\nARU       42\nVIN       42\nSKN       42\nCHA       41\nCOK       40\nGEQ       40\nBDI       39\nDJI       38\nASA       37\nBHU       36\nVAN       35\nYEM       32\nSOM       32\nMTN       29\nLCA       28\nSOL       27\nFSM       26\nPLW       25\nPLE       21\nGBS       21\nWIF       20\nDMA       19\nCOM       19\nCPV       18\nSTP       15\nMHL       14\nNRU       13\nRHO       12\nROT       12\nKIR       11\nCRT       11\nYAR       11\nBRU       10\nTLS        9\nKOS        8\nTUV        7\nYMD        5\nSSD        3\nUNK        2\nNBO        2\nNFL        1\nName: NOC, dtype: int64"
     },
     "execution_count": 6,
     "metadata": {},
     "output_type": "execute_result"
    }
   ],
   "source": [
    "df[df['NOC']].value_counts()"
   ],
   "metadata": {
    "collapsed": false,
    "pycharm": {
     "name": "#%%\n"
    }
   }
  },
  {
   "cell_type": "markdown",
   "source": [
    "## 5.不同运动项目男女人数"
   ],
   "metadata": {
    "collapsed": false
   }
  },
  {
   "cell_type": "code",
   "source": [],
   "metadata": {
    "collapsed": false,
    "pycharm": {
     "name": "#%%\n"
    }
   },
   "execution_count": null,
   "outputs": []
  },
  {
   "cell_type": "markdown",
   "source": [
    "## 6.不同比赛项目"
   ],
   "metadata": {
    "collapsed": false
   }
  },
  {
   "cell_type": "code",
   "execution_count": null,
   "outputs": [],
   "source": [
    "\n"
   ],
   "metadata": {
    "collapsed": false,
    "pycharm": {
     "name": "#%%\n"
    }
   }
  }
 ],
 "metadata": {
  "kernelspec": {
   "display_name": "Python 3",
   "language": "python",
   "name": "python3"
  },
  "language_info": {
   "codemirror_mode": {
    "name": "ipython",
    "version": 2
   },
   "file_extension": ".py",
   "mimetype": "text/x-python",
   "name": "python",
   "nbconvert_exporter": "python",
   "pygments_lexer": "ipython2",
   "version": "2.7.6"
  }
 },
 "nbformat": 4,
 "nbformat_minor": 0
}